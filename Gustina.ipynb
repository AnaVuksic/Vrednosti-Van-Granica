{
 "cells": [
  {
   "cell_type": "code",
   "execution_count": 1,
   "metadata": {
    "collapsed": true
   },
   "outputs": [],
   "source": [
    "import numpy as np\n",
    "import matplotlib.pyplot as plt\n",
    "from scipy.stats import gaussian_kde"
   ]
  },
  {
   "cell_type": "markdown",
   "metadata": {},
   "source": [
    "Metode bazirane na korpama i rešetkama"
   ]
  },
  {
   "cell_type": "code",
   "execution_count": 2,
   "metadata": {
    "collapsed": true
   },
   "outputs": [],
   "source": [
    "mean = [0, 0]\n",
    "cov = [[1, 1], [1, 2]]\n",
    "x, y = np.random.multivariate_normal(mean, cov, 10000).T"
   ]
  },
  {
   "cell_type": "code",
   "execution_count": 3,
   "metadata": {},
   "outputs": [
    {
     "data": {
      "image/png": "[encoded data removed]",
      "text/plain": [
       "<matplotlib.figure.Figure at 0x20068d3c6d8>"
      ]
     },
     "metadata": {},
     "output_type": "display_data"
    }
   ],
   "source": [
    "plt.hist2d(x, y, bins=30, cmap='Reds')\n",
    "cb = plt.colorbar()\n",
    "cb.set_label('Pojavljivanja u korpi')\n",
    "\n",
    "plt.show()"
   ]
  },
  {
   "cell_type": "code",
   "execution_count": 4,
   "metadata": {
    "collapsed": true
   },
   "outputs": [],
   "source": [
    "counts, xedges, yedges = np.histogram2d(x, y, bins=30)"
   ]
  },
  {
   "cell_type": "code",
   "execution_count": 5,
   "metadata": {},
   "outputs": [
    {
     "data": {
      "text/plain": [
       "array([-3.77265278, -3.52276606, -3.27287934, -3.02299261, -2.77310589,\n",
       "       -2.52321917, -2.27333245, -2.02344573, -1.773559  , -1.52367228,\n",
       "       -1.27378556, -1.02389884, -0.77401212, -0.52412539, -0.27423867,\n",
       "       -0.02435195,  0.22553477,  0.47542149,  0.72530822,  0.97519494,\n",
       "        1.22508166,  1.47496838,  1.7248551 ,  1.97474183,  2.22462855,\n",
       "        2.47451527,  2.72440199,  2.97428871,  3.22417544,  3.47406216,\n",
       "        3.72394888])"
      ]
     },
     "execution_count": 5,
     "metadata": {},
     "output_type": "execute_result"
    }
   ],
   "source": [
    "xedges"
   ]
  },
  {
   "cell_type": "code",
   "execution_count": 6,
   "metadata": {},
   "outputs": [
    {
     "data": {
      "text/plain": [
       "array([ -5.77492097e+00,  -5.41409152e+00,  -5.05326207e+00,\n",
       "        -4.69243262e+00,  -4.33160317e+00,  -3.97077372e+00,\n",
       "        -3.60994427e+00,  -3.24911482e+00,  -2.88828537e+00,\n",
       "        -2.52745592e+00,  -2.16662647e+00,  -1.80579702e+00,\n",
       "        -1.44496757e+00,  -1.08413812e+00,  -7.23308673e-01,\n",
       "        -3.62479223e-01,  -1.64977284e-03,   3.59179677e-01,\n",
       "         7.20009127e-01,   1.08083858e+00,   1.44166803e+00,\n",
       "         1.80249748e+00,   2.16332693e+00,   2.52415638e+00,\n",
       "         2.88498583e+00,   3.24581528e+00,   3.60664473e+00,\n",
       "         3.96747418e+00,   4.32830363e+00,   4.68913308e+00,\n",
       "         5.04996253e+00])"
      ]
     },
     "execution_count": 6,
     "metadata": {},
     "output_type": "execute_result"
    }
   ],
   "source": [
    "yedges"
   ]
  },
  {
   "cell_type": "code",
   "execution_count": 7,
   "metadata": {},
   "outputs": [
    {
     "data": {
      "text/plain": [
       "array([   0.,    0.,    0.,    0.,    0.,    0.,    0.,    2.,    4.,\n",
       "         11.,   24.,   31.,   47.,   79.,  115.,  131.,  120.,  130.,\n",
       "        108.,   86.,   54.,   34.,   12.,    8.,    5.,    2.,    0.,\n",
       "          0.,    0.,    0.])"
      ]
     },
     "execution_count": 7,
     "metadata": {},
     "output_type": "execute_result"
    }
   ],
   "source": [
    "counts[15]"
   ]
  },
  {
   "cell_type": "markdown",
   "metadata": {},
   "source": [
    "Gausijanski kernel za metode bazirane na gustini"
   ]
  },
  {
   "cell_type": "code",
   "execution_count": 8,
   "metadata": {},
   "outputs": [
    {
     "data": {
      "image/png": "[encoded data removed]",
      "text/plain": [
       "<matplotlib.figure.Figure at 0x20069228550>"
      ]
     },
     "metadata": {},
     "output_type": "display_data"
    }
   ],
   "source": [
    "# pravljenje niza sa n dimenzija\n",
    "data = np.vstack([x, y])\n",
    "kde = gaussian_kde(data)\n",
    "\n",
    "# Pravljenje mreže\n",
    "xgrid = np.linspace(-3, 3, 4)\n",
    "ygrid = np.linspace(-6, 6, 4)\n",
    "Xgrid, Ygrid = np.meshgrid(xgrid, ygrid)\n",
    "\n",
    "Z = kde.evaluate(np.vstack([Xgrid.ravel(), Ygrid.ravel()]))\n",
    "\n",
    "plt.imshow(Z.reshape(Xgrid.shape), origin='lower', aspect='auto', extent=[-3, 3, -6, 6], cmap='Reds')\n",
    "cb = plt.colorbar()\n",
    "cb.set_label(\"Gustina\")\n",
    "\n",
    "plt.show()"
   ]
  },
  {
   "cell_type": "code",
   "execution_count": 9,
   "metadata": {},
   "outputs": [
    {
     "data": {
      "image/png": "[encoded data removed]",
      "text/plain": [
       "<matplotlib.figure.Figure at 0x20068d313c8>"
      ]
     },
     "metadata": {},
     "output_type": "display_data"
    }
   ],
   "source": [
    "xgrid = np.linspace(-3, 3, 50)\n",
    "ygrid = np.linspace(-6, 6, 50)\n",
    "Xgrid, Ygrid = np.meshgrid(xgrid, ygrid)\n",
    "\n",
    "Z = kde.evaluate(np.vstack([Xgrid.ravel(), Ygrid.ravel()]))\n",
    "\n",
    "plt.imshow(Z.reshape(Xgrid.shape), origin='lower', aspect='auto', extent=[-3, 3, -6, 6], cmap='Reds')\n",
    "cb = plt.colorbar()\n",
    "cb.set_label(\"Gustina\")\n",
    "\n",
    "plt.show()"
   ]
  }
 ],
 "metadata": {
  "kernelspec": {
   "display_name": "Python 3",
   "language": "python",
   "name": "python3"
  },
  "language_info": {
   "codemirror_mode": {
    "name": "ipython",
    "version": 3
   },
   "file_extension": ".py",
   "mimetype": "text/x-python",
   "name": "python",
   "nbconvert_exporter": "python",
   "pygments_lexer": "ipython3",
   "version": "3.6.1"
  }
 },
 "nbformat": 4,
 "nbformat_minor": 2
}
