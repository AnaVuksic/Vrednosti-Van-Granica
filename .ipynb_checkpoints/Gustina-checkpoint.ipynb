{
 "cells": [
  {
   "cell_type": "code",
   "execution_count": 9,
   "metadata": {
    "collapsed": true
   },
   "outputs": [],
   "source": [
    "import numpy as np\n",
    "import matplotlib.pyplot as plt\n",
    "from scipy.stats import gaussian_kde"
   ]
  },
  {
   "cell_type": "code",
   "execution_count": 10,
   "metadata": {},
   "outputs": [],
   "source": [
    "mean = [0, 0]\n",
    "cov = [[1, 1], [1, 2]]\n",
    "x, y = np.random.multivariate_normal(mean, cov, 10000).T"
   ]
  },
  {
   "cell_type": "code",
   "execution_count": 21,
   "metadata": {},
   "outputs": [
    {
     "data": {
      "image/png": "[encoded data removed]",
      "text/plain": [
       "<matplotlib.figure.Figure at 0x135b8744860>"
      ]
     },
     "metadata": {},
     "output_type": "display_data"
    }
   ],
   "source": [
    "plt.hist2d(x, y, bins=30, cmap='Reds')\n",
    "cb = plt.colorbar()\n",
    "cb.set_label('counts in bin')\n",
    "\n",
    "plt.show()"
   ]
  },
  {
   "cell_type": "code",
   "execution_count": 20,
   "metadata": {
    "collapsed": true
   },
   "outputs": [],
   "source": [
    "counts, xedges, yedges = np.histogram2d(x, y, bins=30)"
   ]
  },
  {
   "cell_type": "code",
   "execution_count": 13,
   "metadata": {},
   "outputs": [
    {
     "data": {
      "text/plain": [
       "array([-3.50045002, -3.24645305, -2.99245607, -2.7384591 , -2.48446213,\n",
       "       -2.23046516, -1.97646819, -1.72247122, -1.46847425, -1.21447728,\n",
       "       -0.9604803 , -0.70648333, -0.45248636, -0.19848939,  0.05550758,\n",
       "        0.30950455,  0.56350152,  0.81749849,  1.07149547,  1.32549244,\n",
       "        1.57948941,  1.83348638,  2.08748335,  2.34148032,  2.59547729,\n",
       "        2.84947426,  3.10347124,  3.35746821,  3.61146518,  3.86546215,\n",
       "        4.11945912])"
      ]
     },
     "execution_count": 13,
     "metadata": {},
     "output_type": "execute_result"
    }
   ],
   "source": [
    "xedges"
   ]
  },
  {
   "cell_type": "code",
   "execution_count": 14,
   "metadata": {},
   "outputs": [
    {
     "data": {
      "text/plain": [
       "array([-5.3063873 , -4.96746898, -4.62855065, -4.28963233, -3.950714  ,\n",
       "       -3.61179568, -3.27287735, -2.93395903, -2.5950407 , -2.25612238,\n",
       "       -1.91720405, -1.57828573, -1.2393674 , -0.90044907, -0.56153075,\n",
       "       -0.22261242,  0.1163059 ,  0.45522423,  0.79414255,  1.13306088,\n",
       "        1.4719792 ,  1.81089753,  2.14981585,  2.48873418,  2.8276525 ,\n",
       "        3.16657083,  3.50548915,  3.84440748,  4.1833258 ,  4.52224413,\n",
       "        4.86116245])"
      ]
     },
     "execution_count": 14,
     "metadata": {},
     "output_type": "execute_result"
    }
   ],
   "source": [
    "yedges"
   ]
  },
  {
   "cell_type": "code",
   "execution_count": 19,
   "metadata": {},
   "outputs": [
    {
     "data": {
      "text/plain": [
       "array([   0.,    0.,    0.,    0.,    0.,    0.,    2.,    0.,    1.,\n",
       "          3.,   13.,   21.,   40.,   56.,   98.,   85.,  104.,  112.,\n",
       "        104.,  106.,   78.,   46.,   28.,   11.,    4.,    3.,    0.,\n",
       "          1.,    0.,    0.])"
      ]
     },
     "execution_count": 19,
     "metadata": {},
     "output_type": "execute_result"
    }
   ],
   "source": [
    "counts[15]"
   ]
  },
  {
   "cell_type": "code",
   "execution_count": null,
   "metadata": {
    "collapsed": true
   },
   "outputs": [],
   "source": []
  },
  {
   "cell_type": "markdown",
   "metadata": {},
   "source": []
  },
  {
   "cell_type": "code",
   "execution_count": 33,
   "metadata": {},
   "outputs": [
    {
     "name": "stdout",
     "output_type": "stream",
     "text": [
      "[-0.02165642  1.08325929 -0.10675275 ..., -0.19822114 -1.49974998\n",
      " -1.86838156]\n"
     ]
    },
    {
     "data": {
      "image/png": "[encoded data removed]",
      "text/plain": [
       "<matplotlib.figure.Figure at 0x135b859a400>"
      ]
     },
     "metadata": {},
     "output_type": "display_data"
    }
   ],
   "source": [
    "# pravljenje niza sa n dimenzija\n",
    "data = np.vstack([x, y])\n",
    "print(y)\n",
    "kde = gaussian_kde(data)\n",
    "\n",
    "# evaluacija na normalizovanoj resetki\n",
    "Z = kde.evaluate(np.vstack([Xgrid.ravel(), Ygrid.ravel()]))\n",
    "\n",
    "plt.imshow(Z.reshape(Xgrid.shape), origin='lower', aspect='auto', extent=[-3.5, 3.5, -6, 6], cmap='Reds')\n",
    "cb = plt.colorbar()\n",
    "cb.set_label(\"density\")\n",
    "\n",
    "plt.show()"
   ]
  },
  {
   "cell_type": "code",
   "execution_count": null,
   "metadata": {
    "collapsed": true
   },
   "outputs": [],
   "source": []
  }
 ],
 "metadata": {
  "kernelspec": {
   "display_name": "Python 3",
   "language": "python",
   "name": "python3"
  },
  "language_info": {
   "codemirror_mode": {
    "name": "ipython",
    "version": 3
   },
   "file_extension": ".py",
   "mimetype": "text/x-python",
   "name": "python",
   "nbconvert_exporter": "python",
   "pygments_lexer": "ipython3",
   "version": "3.6.1"
  }
 },
 "nbformat": 4,
 "nbformat_minor": 2
}
