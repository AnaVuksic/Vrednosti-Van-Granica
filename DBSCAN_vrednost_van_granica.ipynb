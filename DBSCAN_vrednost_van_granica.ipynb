{
 "cells": [
  {
   "cell_type": "code",
   "execution_count": null,
   "metadata": {
    "collapsed": true
   },
   "outputs": [],
   "source": [
    "#Potrebne biblioteke\n",
    "import numpy as np\n",
    "from sklearn.cluster import DBSCAN\n",
    "from sklearn import metrics\n",
    "from sklearn.datasets.samples_generator import make_blobs\n",
    "from sklearn.preprocessing import StandardScaler\n",
    "import matplotlib.pyplot as plt"
   ]
  },
  {
   "cell_type": "markdown",
   "metadata": {},
   "source": [
    "Koristi gustinu kako bi izvršio klasterovanje. Moramo paziti na epsilon veličinu i broj tačaka. One određuju šta se smatra poželjnom gustinom. "
   ]
  },
  {
   "cell_type": "code",
   "execution_count": null,
   "metadata": {
    "collapsed": true
   },
   "outputs": [],
   "source": [
    "# Generisanje rendom podataka koriscenjem make_blobs()\n",
    "centers = [[1, 1], [3, 3], [5, 7]]\n",
    "X, labels_true = make_blobs(n_samples=200, centers=centers, cluster_std=0.4,\n",
    "                            random_state=0)\n",
    "#normalizacija\n",
    "#X = StandardScaler().fit_transform(X)"
   ]
  },
  {
   "cell_type": "code",
   "execution_count": null,
   "metadata": {
    "collapsed": true
   },
   "outputs": [],
   "source": [
    "#Pokretanje DBSCANa\n",
    "db = DBSCAN(eps=0.3, min_samples=10).fit(X)\n",
    "core_samples_mask = np.zeros_like(db.labels_, dtype=bool)\n",
    "core_samples_mask[db.core_sample_indices_] = True\n",
    "\n",
    "labels = db.labels_"
   ]
  },
  {
   "cell_type": "code",
   "execution_count": null,
   "metadata": {},
   "outputs": [],
   "source": [
    "# Broj klastera\n",
    "n_clusters = len(set(labels)) - (1 if -1 in labels else 0)\n",
    "\n",
    "print('Broj klastera: %d' % n_clusters)"
   ]
  },
  {
   "cell_type": "code",
   "execution_count": null,
   "metadata": {},
   "outputs": [],
   "source": [
    "# Vizuelizacija\n",
    "# -1 u labels je za vrednosti van granica, dok 0,1,...n-1 imaju oznaku u zavisnosti od klastera kom pripadaju\n",
    "\n",
    "unique_labels = set(labels)\n",
    "\n",
    "i = 0\n",
    "colors = np.zeros((4,4))\n",
    "\n",
    "while i <= len(unique_labels)-1:\n",
    "    colors[i] = (np.random.rand(),np.random.rand(),np.random.rand(),1)\n",
    "    i = i+1\n",
    "\n",
    "for k, col in zip(unique_labels, colors):\n",
    "    #crna boja za vrednosti van granica\n",
    "    if k == -1:\n",
    "        col = [0, 0, 0, 1]\n",
    "\n",
    "    class_member_mask = (labels == k)\n",
    "\n",
    "    xy = X[class_member_mask & core_samples_mask]\n",
    "    plt.plot(xy[:, 0], xy[:, 1], 'o', markerfacecolor=tuple(col), markersize=14)\n",
    "\n",
    "    xy = X[class_member_mask & ~core_samples_mask] \n",
    "    plt.plot(xy[:, 0], xy[:, 1], 'o', markerfacecolor=tuple(col), markersize=6)\n",
    "\n",
    "plt.show()"
   ]
  },
  {
   "cell_type": "code",
   "execution_count": null,
   "metadata": {
    "collapsed": true
   },
   "outputs": [],
   "source": []
  }
 ],
 "metadata": {
  "kernelspec": {
   "display_name": "Python 3",
   "language": "python",
   "name": "python3"
  },
  "language_info": {
   "codemirror_mode": {
    "name": "ipython",
    "version": 3
   },
   "file_extension": ".py",
   "mimetype": "text/x-python",
   "name": "python",
   "nbconvert_exporter": "python",
   "pygments_lexer": "ipython3",
   "version": "3.6.1"
  }
 },
 "nbformat": 4,
 "nbformat_minor": 1
}
